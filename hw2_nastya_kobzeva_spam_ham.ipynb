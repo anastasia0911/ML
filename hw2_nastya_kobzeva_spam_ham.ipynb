{
 "cells": [
  {
   "cell_type": "code",
   "execution_count": 1,
   "metadata": {
    "collapsed": true
   },
   "outputs": [],
   "source": [
    "import pandas as pd\n",
    "import numpy as np\n",
    "import matplotlib.pyplot as plt\n",
    "from nltk import word_tokenize\n",
    "from nltk.tokenize import RegexpTokenizer\n",
    "from sklearn.feature_extraction.text import CountVectorizer\n",
    "from sklearn.naive_bayes import MultinomialNB\n",
    "from sklearn.metrics import classification_report, f1_score, accuracy_score, confusion_matrix\n",
    "from sklearn.pipeline import Pipeline\n",
    "from sklearn.model_selection import StratifiedKFold, cross_val_score, train_test_split, cross_val_predict"
   ]
  },
  {
   "cell_type": "code",
   "execution_count": 2,
   "metadata": {
    "collapsed": false
   },
   "outputs": [
    {
     "name": "stdout",
     "output_type": "stream",
     "text": [
      "  label                                            message\n",
      "0   ham  Go until jurong point, crazy.. Available only ...\n",
      "1   ham                      Ok lar... Joking wif u oni...\n",
      "2  spam  Free entry in 2 a wkly comp to win FA Cup fina...\n",
      "3   ham  U dun say so early hor... U c already then say...\n",
      "4   ham  Nah I don't think he goes to usf, he lives aro...\n",
      "                                                        message\n",
      "label                                                          \n",
      "ham   count                                                4825\n",
      "      unique                                               4516\n",
      "      top                                Sorry, I'll call later\n",
      "      freq                                                   30\n",
      "spam  count                                                 747\n",
      "      unique                                                653\n",
      "      top     Please call our customer service representativ...\n",
      "      freq                                                    4\n"
     ]
    },
    {
     "data": {
      "text/plain": [
       "' Датасет не сбалансирован: 747 спам-сообщений и 4825 смс. За счет такого дисбаланса в выборке, Dummy classifier, который будет\\nприсваивать всем новым сообщениям класс ham, будет иметь хороший accuracy_score=4825/(747+4825)=0.866, однако совсем не будет\\nсправляться с задачей фильтрации спама.'"
      ]
     },
     "execution_count": 2,
     "metadata": {},
     "output_type": "execute_result"
    }
   ],
   "source": [
    "# Задание 1 (+6).\n",
    "path = 'smsspamcollection/SMSSpamCollection'\n",
    "messages = pd.read_csv(path, sep='\\t',\n",
    "                           names=[\"label\", \"message\"])\n",
    "print(messages.head())\n",
    "print(messages.groupby('label').describe())\n",
    "''' Датасет не сбалансирован: 747 спам-сообщений и 4825 смс. За счет такого дисбаланса в выборке, Dummy classifier, который будет\n",
    "присваивать всем новым сообщениям класс ham, будет иметь хороший accuracy_score=4825/(747+4825)=0.866, однако совсем не будет\n",
    "справляться с задачей фильтрации спама.'''"
   ]
  },
  {
   "cell_type": "code",
   "execution_count": 3,
   "metadata": {
    "collapsed": false
   },
   "outputs": [
    {
     "name": "stdout",
     "output_type": "stream",
     "text": [
      "Accuracy score of dummy clf would be 0.866\n"
     ]
    }
   ],
   "source": [
    "dummy_clf = ['ham' for i in range(len(messages))]\n",
    "print('Accuracy score of dummy clf would be', '{0:.3f}'.format(accuracy_score(dummy_clf, messages.label)))"
   ]
  },
  {
   "cell_type": "code",
   "execution_count": 4,
   "metadata": {
    "collapsed": true
   },
   "outputs": [],
   "source": [
    "# 1. Разная токенизация\n",
    "def tokenize(text): # Знаки пунктуации -- отдельные токены\n",
    "    return word_tokenize(text) # Функция по дефолту приводит все к нижнему регистру"
   ]
  },
  {
   "cell_type": "code",
   "execution_count": 5,
   "metadata": {
    "collapsed": false
   },
   "outputs": [
    {
     "name": "stdout",
     "output_type": "stream",
     "text": [
      "     label                                            message\n",
      "569    ham  Love it! Daddy will make you scream with pleas...\n",
      "395    ham  Pick you up bout 7.30ish? What time are  and t...\n",
      "652    ham  I'm gonna say no. Sorry. I would but as normal...\n",
      "210    ham            Both :) i shoot big loads so get ready!\n",
      "4725  spam  FREE GAME. Get Rayman Golf 4 FREE from the O2 ...\n"
     ]
    }
   ],
   "source": [
    "# Для того, чтобы дальше делать что-нибудь с выборкой, сбалансируем ее -- возьмем ham-сообщений столько же, сколько у нас спама\n",
    "ham = messages.loc[messages['label'] == 'ham'][:747]\n",
    "spam = messages.loc[messages['label'] == 'spam']\n",
    "ham = ham.append(spam) # Добавляю все в один датафрейм\n",
    "ham = ham.reindex(np.random.permutation(ham.index)) # Перемешиваю\n",
    "print(ham.head())\n",
    "ham.to_csv('./ham_spam_balanced.csv', index=False) # Записываю в csv без индексов"
   ]
  },
  {
   "cell_type": "code",
   "execution_count": 6,
   "metadata": {
    "collapsed": false
   },
   "outputs": [
    {
     "name": "stdout",
     "output_type": "stream",
     "text": [
      "  label                                            message\n",
      "0   ham  Love it! Daddy will make you scream with pleas...\n",
      "1   ham  Pick you up bout 7.30ish? What time are  and t...\n",
      "2   ham  I'm gonna say no. Sorry. I would but as normal...\n",
      "3   ham            Both :) i shoot big loads so get ready!\n",
      "4  spam  FREE GAME. Get Rayman Golf 4 FREE from the O2 ...\n"
     ]
    }
   ],
   "source": [
    "# Новый сбалансированный перемешанный датасет\n",
    "df = pd.read_csv('./ham_spam_balanced.csv')\n",
    "print(df.head())"
   ]
  },
  {
   "cell_type": "code",
   "execution_count": 7,
   "metadata": {
    "collapsed": false
   },
   "outputs": [
    {
     "name": "stdout",
     "output_type": "stream",
     "text": [
      "             precision    recall  f1-score   support\n",
      "\n",
      "        ham       0.94      0.98      0.96       747\n",
      "       spam       0.98      0.94      0.96       747\n",
      "\n",
      "avg / total       0.96      0.96      0.96      1494\n",
      "\n",
      "[[729  18]\n",
      " [ 44 703]]\n"
     ]
    }
   ],
   "source": [
    "# 1.1. Обучаю модель, знаки пунктуации - отдельные токены\n",
    "bow_11 = CountVectorizer(tokenizer=tokenize) \n",
    "bowed_messages = bow_11.fit_transform(df['message'])  \n",
    "# Буду использовать кросс-валилацию\n",
    "naive_model = MultinomialNB() \n",
    "naive_model.fit(bowed_messages, df['label']) \n",
    "nm_predicted = cross_val_predict(naive_model, bowed_messages, df['label'], cv=10) \n",
    "print(classification_report(df['label'], nm_predicted)) # В целом, получилось не так плохо\n",
    "# Нужно посмотреть на confusion matrix, чтобы понять, как обстоят дела с TP и FP\n",
    "matrix = confusion_matrix(df['label'], nm_predicted)\n",
    "print(matrix) # 18 не-спам сообщений классификатор отнес к спаму, 44 спам-сообщения не распознались\n",
    "# Можно еще нарисовать нормализованную матрицу, чтобы было нагляднее (хотя и так понятно)"
   ]
  },
  {
   "cell_type": "code",
   "execution_count": 8,
   "metadata": {
    "collapsed": true
   },
   "outputs": [],
   "source": [
    "# Функция отсюда: http://scikit-learn.org/stable/auto_examples/model_selection/plot_confusion_matrix.html\n",
    "import itertools\n",
    "def plot_confusion_matrix(cm, classes,\n",
    "                          normalize=False,\n",
    "                          title='Confusion matrix',\n",
    "                          cmap=plt.cm.Blues):\n",
    "    \"\"\"\n",
    "    This function prints and plots the confusion matrix.\n",
    "    Normalization can be applied by setting `normalize=True`.\n",
    "    \"\"\"\n",
    "    plt.imshow(cm, interpolation='nearest', cmap=cmap)\n",
    "    plt.title(title)\n",
    "    plt.colorbar()\n",
    "    tick_marks = np.arange(len(classes))\n",
    "    plt.xticks(tick_marks, classes, rotation=45)\n",
    "    plt.yticks(tick_marks, classes)\n",
    "\n",
    "    if normalize:\n",
    "        cm = cm.astype('float') / cm.sum(axis=1)[:, np.newaxis]\n",
    "        print(\"Normalized confusion matrix\")\n",
    "    else:\n",
    "        print('Confusion matrix, without normalization')\n",
    "\n",
    "    print(cm)\n",
    "\n",
    "    thresh = cm.max() / 2.\n",
    "    for i, j in itertools.product(range(cm.shape[0]), range(cm.shape[1])):\n",
    "        plt.text(j, i, cm[i, j],\n",
    "                 horizontalalignment=\"center\",\n",
    "                 color=\"white\" if cm[i, j] > thresh else \"black\")\n",
    "\n",
    "    plt.tight_layout()\n",
    "    plt.ylabel('True label')\n",
    "    plt.xlabel('Predicted label')"
   ]
  },
  {
   "cell_type": "code",
   "execution_count": 9,
   "metadata": {
    "collapsed": false
   },
   "outputs": [
    {
     "name": "stdout",
     "output_type": "stream",
     "text": [
      "Normalized confusion matrix\n",
      "[[ 0.97590361  0.02409639]\n",
      " [ 0.05890228  0.94109772]]\n"
     ]
    },
    {
     "data": {
      "image/png": "[encoded data removed]",
      "text/plain": [
       "<matplotlib.figure.Figure at 0x21ca3d0b160>"
      ]
     },
     "metadata": {},
     "output_type": "display_data"
    }
   ],
   "source": [
    "plt.figure()\n",
    "plot_confusion_matrix(matrix, classes=naive_model.classes_, normalize=True, title='Normalized confusion matrix (with punct)')\n",
    "plt.show()"
   ]
  },
  {
   "cell_type": "code",
   "execution_count": 10,
   "metadata": {
    "collapsed": true
   },
   "outputs": [],
   "source": [
    "# 1.2. Долой знаки препинания!\n",
    "def tokenize_no_punct(text):\n",
    "    tokenizer = RegexpTokenizer(r'\\w+')\n",
    "    return tokenizer.tokenize(text)"
   ]
  },
  {
   "cell_type": "code",
   "execution_count": 11,
   "metadata": {
    "collapsed": false
   },
   "outputs": [
    {
     "name": "stdout",
     "output_type": "stream",
     "text": [
      "             precision    recall  f1-score   support\n",
      "\n",
      "        ham       0.96      0.99      0.97       747\n",
      "       spam       0.98      0.96      0.97       747\n",
      "\n",
      "avg / total       0.97      0.97      0.97      1494\n",
      "\n",
      "[[736  11]\n",
      " [ 33 714]]\n",
      "Normalized confusion matrix\n",
      "[[ 0.98527443  0.01472557]\n",
      " [ 0.04417671  0.95582329]]\n"
     ]
    },
    {
     "data": {
      "image/png": "[encoded data removed]",
      "text/plain": [
       "<matplotlib.figure.Figure at 0x21ca390f710>"
      ]
     },
     "metadata": {},
     "output_type": "display_data"
    }
   ],
   "source": [
    "bow_12 = CountVectorizer(tokenizer=tokenize_no_punct) \n",
    "bowed_messages = bow_12.fit_transform(df['message'])  \n",
    "naive_model = MultinomialNB() \n",
    "naive_model.fit(bowed_messages, df['label']) \n",
    "nm_predicted = cross_val_predict(naive_model, bowed_messages, df['label'], cv=10) \n",
    "print(classification_report(df['label'], nm_predicted))\n",
    "matrix = confusion_matrix(df['label'], nm_predicted)\n",
    "print(matrix) # 11 не-спам сообщений оказались в спаме (стало лучше) и 33 спам-сообщения не распознались (стало лучше)\n",
    "plt.figure()\n",
    "plot_confusion_matrix(matrix, classes=naive_model.classes_, normalize=True, title='Normalized confusion matrix (no punct)')\n",
    "plt.show()"
   ]
  },
  {
   "cell_type": "code",
   "execution_count": 12,
   "metadata": {
    "collapsed": false
   },
   "outputs": [
    {
     "data": {
      "text/plain": [
       "'Получилось так:\\nTP (with punct) < TP (no punct) с пунктуацией не-спама, помеченного как не спам, было меньше - это плохо\\nFP (with punct) > FP (no punct) с пунктуацией спама, помеченного как не-спам, было больше - это плохо\\nFN (with punct) > FN (no punct) с пунктуацией не-спама, помеченного как спам, было больше - это плохо\\nTN (with punct) < TN (no punct) с пунктуацией спама, помеченного как спам, было меньше - это плохо\\nВывод: без пунктуации лучше!'"
      ]
     },
     "execution_count": 12,
     "metadata": {},
     "output_type": "execute_result"
    }
   ],
   "source": [
    "'''Получилось так:\n",
    "TP (with punct) < TP (no punct) с пунктуацией не-спама, помеченного как не спам, было меньше - это плохо\n",
    "FP (with punct) > FP (no punct) с пунктуацией спама, помеченного как не-спам, было больше - это плохо\n",
    "FN (with punct) > FN (no punct) с пунктуацией не-спама, помеченного как спам, было больше - это плохо\n",
    "TN (with punct) < TN (no punct) с пунктуацией спама, помеченного как спам, было меньше - это плохо\n",
    "Вывод: без пунктуации лучше!'''"
   ]
  },
  {
   "cell_type": "code",
   "execution_count": 13,
   "metadata": {
    "collapsed": false
   },
   "outputs": [
    {
     "name": "stdout",
     "output_type": "stream",
     "text": [
      "             precision    recall  f1-score   support\n",
      "\n",
      "        ham       0.96      0.98      0.97       747\n",
      "       spam       0.98      0.96      0.97       747\n",
      "\n",
      "avg / total       0.97      0.97      0.97      1494\n",
      "\n",
      "[[735  12]\n",
      " [ 33 714]]\n"
     ]
    }
   ],
   "source": [
    "# 2. Разная лемматизация\n",
    "# 2.1. Без лемматизации - предыдущий пункт\n",
    "# 2.2. Стэмминг\n",
    "from nltk.stem.porter import PorterStemmer\n",
    "def stemmer(text):\n",
    "    stemmer = PorterStemmer()\n",
    "    words =  tokenize_no_punct(text)\n",
    "    return [stemmer.stem(word) for word in words]\n",
    "\n",
    "bow_22 = CountVectorizer(tokenizer=stemmer) \n",
    "bowed_messages = bow_22.fit_transform(df['message'])  \n",
    "naive_model = MultinomialNB() \n",
    "naive_model.fit(bowed_messages, df['label']) \n",
    "nm_predicted = cross_val_predict(naive_model, bowed_messages, df['label'], cv=10) \n",
    "print(classification_report(df['label'], nm_predicted))\n",
    "matrix = confusion_matrix(df['label'], nm_predicted)\n",
    "print(matrix) # 12 не-спам сообщений оказались в спаме и 33 спам-сообщения не распозналось как спам"
   ]
  },
  {
   "cell_type": "code",
   "execution_count": 14,
   "metadata": {
    "collapsed": false
   },
   "outputs": [
    {
     "name": "stdout",
     "output_type": "stream",
     "text": [
      "             precision    recall  f1-score   support\n",
      "\n",
      "        ham       0.95      0.98      0.97       747\n",
      "       spam       0.98      0.95      0.97       747\n",
      "\n",
      "avg / total       0.97      0.97      0.97      1494\n",
      "\n",
      "[[734  13]\n",
      " [ 37 710]]\n"
     ]
    }
   ],
   "source": [
    "# 2.3. Лемматизация\n",
    "from nltk.stem import WordNetLemmatizer\n",
    "def lemmatize(text):\n",
    "    wnl = WordNetLemmatizer()\n",
    "    words =  tokenize_no_punct(text)\n",
    "    return [wnl.lemmatize(word) for word in words]\n",
    "\n",
    "bow_23 = CountVectorizer(tokenizer=lemmatize) \n",
    "bowed_messages = bow_23.fit_transform(df['message'])  \n",
    "naive_model = MultinomialNB() \n",
    "naive_model.fit(bowed_messages, df['label']) \n",
    "nm_predicted = cross_val_predict(naive_model, bowed_messages, df['label'], cv=10) \n",
    "print(classification_report(df['label'], nm_predicted))\n",
    "matrix = confusion_matrix(df['label'], nm_predicted)\n",
    "print(matrix) # 13 не-спам сообщений оказались в спаме и 37 спам-сообщений не распозналось как спам\n",
    "# Вывод: токенизатор (без пунктуации) лучше, чем стэммер, а стэммер лучше, чем лемматизатор"
   ]
  },
  {
   "cell_type": "code",
   "execution_count": 15,
   "metadata": {
    "collapsed": false
   },
   "outputs": [
    {
     "name": "stdout",
     "output_type": "stream",
     "text": [
      "             precision    recall  f1-score   support\n",
      "\n",
      "        ham       0.96      0.96      0.96       747\n",
      "       spam       0.96      0.96      0.96       747\n",
      "\n",
      "avg / total       0.96      0.96      0.96      1494\n",
      "\n",
      "[[720  27]\n",
      " [ 32 715]]\n"
     ]
    }
   ],
   "source": [
    "# 3. Стоп-слова и df\n",
    "# 3.1. Удалю стоп-слова, используя токенизатор, который не считает пунктуацию за токены, т.к. он показал лучший результат\n",
    "bow_31 = CountVectorizer(tokenizer=tokenize_no_punct, stop_words='english') \n",
    "bowed_messages = bow_31.fit_transform(df['message'])  \n",
    "naive_model = MultinomialNB() \n",
    "naive_model.fit(bowed_messages, df['label']) \n",
    "nm_predicted = cross_val_predict(naive_model, bowed_messages, df['label'], cv=10) \n",
    "print(classification_report(df['label'], nm_predicted))\n",
    "matrix = confusion_matrix(df['label'], nm_predicted)\n",
    "print(matrix) # 27 не-спам сообщений оказались в спаме и 32 спам-сообщения не распознались. Было: 11 и 33 соответственно.\n",
    "# Стало хуже, потому что получить на одно спам-сообщение меньше куда хуже, чем получить на 16 меньше важных сообщений."
   ]
  },
  {
   "cell_type": "code",
   "execution_count": 16,
   "metadata": {
    "collapsed": false
   },
   "outputs": [
    {
     "name": "stdout",
     "output_type": "stream",
     "text": [
      "             precision    recall  f1-score   support\n",
      "\n",
      "        ham       0.86      0.81      0.84       747\n",
      "       spam       0.82      0.87      0.85       747\n",
      "\n",
      "avg / total       0.84      0.84      0.84      1494\n",
      "\n",
      "[[607 140]\n",
      " [ 95 652]]\n"
     ]
    }
   ],
   "source": [
    "# 3.2. Пороги минимальной и максимальной df\n",
    "bow_31 = CountVectorizer(tokenizer=tokenize_no_punct, min_df=0.1, max_df=0.9) \n",
    "bowed_messages = bow_31.fit_transform(df['message'])  \n",
    "naive_model = MultinomialNB() \n",
    "naive_model.fit(bowed_messages, df['label']) \n",
    "nm_predicted = cross_val_predict(naive_model, bowed_messages, df['label'], cv=10) \n",
    "print(classification_report(df['label'], nm_predicted))\n",
    "matrix = confusion_matrix(df['label'], nm_predicted)\n",
    "print(matrix) # С заданными порогами результаты получились значимо хуже\n",
    "# Вывод: по-прежнему с задачей фильтрации спама лучше всего справляется простой токенизатор (без пунктуации)"
   ]
  },
  {
   "cell_type": "code",
   "execution_count": 17,
   "metadata": {
    "collapsed": false
   },
   "outputs": [
    {
     "name": "stdout",
     "output_type": "stream",
     "text": [
      "             precision    recall  f1-score   support\n",
      "\n",
      "        ham       0.95      0.98      0.97       747\n",
      "       spam       0.98      0.95      0.97       747\n",
      "\n",
      "avg / total       0.97      0.97      0.97      1494\n",
      "\n",
      "[[733  14]\n",
      " [ 35 712]]\n"
     ]
    }
   ],
   "source": [
    "# 4. Разная векторизация документов\n",
    "# 4.1. CountVectorizer c токенизатором без пунктуации, см. выше\n",
    "# 4.2. TfIdfVectorizer\n",
    "from sklearn.feature_extraction.text import TfidfVectorizer\n",
    "bow_42 = TfidfVectorizer(tokenizer=tokenize_no_punct) \n",
    "bowed_messages = bow_42.fit_transform(df['message'])  \n",
    "naive_model = MultinomialNB() \n",
    "naive_model.fit(bowed_messages, df['label']) \n",
    "nm_predicted = cross_val_predict(naive_model, bowed_messages, df['label'], cv=10) \n",
    "print(classification_report(df['label'], nm_predicted))\n",
    "matrix = confusion_matrix(df['label'], nm_predicted)\n",
    "print(matrix) # 14 не-спам сообщений оказались в спаме и 35 спам-сообщений не распознались. С CountVectorizer было 11 и 33.\n",
    "# Вывод: CountVectorizer лучше."
   ]
  },
  {
   "cell_type": "code",
   "execution_count": 18,
   "metadata": {
    "collapsed": false
   },
   "outputs": [
    {
     "name": "stdout",
     "output_type": "stream",
     "text": [
      "             precision    recall  f1-score   support\n",
      "\n",
      "        ham       0.95      0.98      0.97       747\n",
      "       spam       0.98      0.95      0.97       747\n",
      "\n",
      "avg / total       0.97      0.97      0.97      1494\n",
      "\n",
      "[[734  13]\n",
      " [ 36 711]]\n"
     ]
    }
   ],
   "source": [
    "# 5. Что-нибудь еще: не будем приводить слова к нижнему регистру\n",
    "bow_5 = CountVectorizer(tokenizer=tokenize_no_punct, lowercase=False) \n",
    "bowed_messages = bow_5.fit_transform(df['message'])  \n",
    "naive_model = MultinomialNB() \n",
    "naive_model.fit(bowed_messages, df['label']) \n",
    "nm_predicted = cross_val_predict(naive_model, bowed_messages, df['label'], cv=10) \n",
    "print(classification_report(df['label'], nm_predicted))\n",
    "matrix = confusion_matrix(df['label'], nm_predicted)\n",
    "print(matrix) # 13 не-спам сообщений оказались в спаме и 36 спам-сообщений не распознались. Стало немного хуже, эх"
   ]
  },
  {
   "cell_type": "code",
   "execution_count": 19,
   "metadata": {
    "collapsed": false
   },
   "outputs": [],
   "source": [
    "# Задание 2 (+2).\n",
    "# Функция для learning curve отсюда: http://scikit-learn.org/stable/auto_examples/model_selection/plot_learning_curve.html\n",
    "from sklearn.model_selection import learning_curve\n",
    "from sklearn.model_selection import ShuffleSplit\n",
    "def plot_learning_curve(estimator, title, X, y, ylim=None, cv=None,\n",
    "                        n_jobs=1, train_sizes=np.linspace(.1, 1.0, 5)):\n",
    "\n",
    "    plt.figure()\n",
    "    plt.title(title)\n",
    "    if ylim is not None:\n",
    "        plt.ylim(*ylim)\n",
    "    plt.xlabel(\"Training examples\")\n",
    "    plt.ylabel(\"Score\")\n",
    "    train_sizes, train_scores, test_scores = learning_curve(\n",
    "        estimator, X, y, cv=cv, n_jobs=n_jobs, train_sizes=train_sizes)\n",
    "    train_scores_mean = np.mean(train_scores, axis=1)\n",
    "    train_scores_std = np.std(train_scores, axis=1)\n",
    "    test_scores_mean = np.mean(test_scores, axis=1)\n",
    "    test_scores_std = np.std(test_scores, axis=1)\n",
    "    plt.grid()\n",
    "\n",
    "    plt.fill_between(train_sizes, train_scores_mean - train_scores_std,\n",
    "                     train_scores_mean + train_scores_std, alpha=0.1,\n",
    "                     color=\"r\")\n",
    "    plt.fill_between(train_sizes, test_scores_mean - test_scores_std,\n",
    "                     test_scores_mean + test_scores_std, alpha=0.1, color=\"g\")\n",
    "    plt.plot(train_sizes, train_scores_mean, 'o-', color=\"r\",\n",
    "             label=\"Training score\")\n",
    "    plt.plot(train_sizes, test_scores_mean, 'o-', color=\"g\",\n",
    "             label=\"Cross-validation score\")\n",
    "\n",
    "    plt.legend(loc=\"best\")\n",
    "    return plt"
   ]
  },
  {
   "cell_type": "code",
   "execution_count": 21,
   "metadata": {
    "collapsed": false
   },
   "outputs": [
    {
     "name": "stdout",
     "output_type": "stream",
     "text": [
      "             precision    recall  f1-score   support\n",
      "\n",
      "        ham       0.96      0.99      0.97       747\n",
      "       spam       0.98      0.96      0.97       747\n",
      "\n",
      "avg / total       0.97      0.97      0.97      1494\n",
      "\n",
      "[[736  11]\n",
      " [ 33 714]]\n"
     ]
    },
    {
     "data": {
      "image/png": "[encoded data removed]",
      "text/plain": [
       "<matplotlib.figure.Figure at 0x21ca8bdbe80>"
      ]
     },
     "metadata": {},
     "output_type": "display_data"
    }
   ],
   "source": [
    "# Байесовский классификатор\n",
    "##from scikitplot import classifier_factory\n",
    "from sklearn.metrics import roc_curve\n",
    "bow = CountVectorizer(tokenizer=tokenize_no_punct) \n",
    "bowed_messages = bow.fit_transform(df['message'])  \n",
    "naive_model = MultinomialNB() \n",
    "naive_model.fit(bowed_messages, df['label']) \n",
    "nm_predicted = cross_val_predict(naive_model, bowed_messages, df['label'], cv=10) \n",
    "print(classification_report(df['label'], nm_predicted)) # classification_report\n",
    "matrix = confusion_matrix(df['label'], nm_predicted) # confusion_matrix\n",
    "print(matrix) \n",
    "X, y = bowed_messages, df['label']\n",
    "title = \"Learning Curve (Naive Bayes)\"\n",
    "cv = ShuffleSplit(n_splits=100, test_size=0.2, random_state=0)\n",
    "plot_learning_curve(naive_model, title, X, y, ylim=(0.7, 1.01), cv=cv, n_jobs=4) # learning curve\n",
    "# В общем, в idle следующий кусок кода у меня работает, и ROC curve строится, но на анаконду поставить scikitplot мне не удалось\n",
    "##classifier_factory(naive_model)\n",
    "##naive_model.plot_roc_curve(bowed_messages, df['label'], random_state=1) # ROC curve\n",
    "# Поэтому я просто загрузила графики c ROC curve отдельно в репозиторий :(\n",
    "plt.show()"
   ]
  },
  {
   "cell_type": "code",
   "execution_count": 26,
   "metadata": {
    "collapsed": false
   },
   "outputs": [
    {
     "name": "stdout",
     "output_type": "stream",
     "text": [
      "             precision    recall  f1-score   support\n",
      "\n",
      "        ham       0.91      0.93      0.92       747\n",
      "       spam       0.93      0.91      0.92       747\n",
      "\n",
      "avg / total       0.92      0.92      0.92      1494\n",
      "\n",
      "[[695  52]\n",
      " [ 67 680]]\n"
     ]
    },
    {
     "data": {
      "image/png": "[encoded data removed]",
      "text/plain": [
       "<matplotlib.figure.Figure at 0x21ca8e76ba8>"
      ]
     },
     "metadata": {},
     "output_type": "display_data"
    }
   ],
   "source": [
    "# Decision Tree\n",
    "from sklearn.tree import DecisionTreeClassifier\n",
    "dtree = DecisionTreeClassifier(min_samples_split=5) \n",
    "dtree.fit(bowed_messages, df['label']) \n",
    "dtree_predicted = cross_val_predict(dtree, bowed_messages, df['label'], cv=10) \n",
    "print(classification_report(df['label'], dtree_predicted)) # classification_report\n",
    "matrix = confusion_matrix(df['label'], dtree_predicted) # confusion_matrix\n",
    "print(matrix) \n",
    "title = \"Learning Curve (Decision Tree)\"\n",
    "plot_learning_curve(dtree, title, bowed_messages, df['label'], ylim=(0.7, 1.01), cv=cv, n_jobs=4)\n",
    "##classifier_factory(dtree)\n",
    "##dtree.plot_roc_curve(bowed_messages, df['label'], random_state=1)\n",
    "plt.show()"
   ]
  },
  {
   "cell_type": "code",
   "execution_count": 29,
   "metadata": {
    "collapsed": false
   },
   "outputs": [
    {
     "name": "stdout",
     "output_type": "stream",
     "text": [
      "             precision    recall  f1-score   support\n",
      "\n",
      "        ham       0.93      1.00      0.96       747\n",
      "       spam       1.00      0.92      0.96       747\n",
      "\n",
      "avg / total       0.96      0.96      0.96      1494\n",
      "\n",
      "[[745   2]\n",
      " [ 58 689]]\n"
     ]
    },
    {
     "data": {
      "image/png": "[encoded data removed]",
      "text/plain": [
       "<matplotlib.figure.Figure at 0x21ca41f1f28>"
      ]
     },
     "metadata": {},
     "output_type": "display_data"
    }
   ],
   "source": [
    "# Random Forest\n",
    "from sklearn.ensemble import RandomForestClassifier\n",
    "rf_model = RandomForestClassifier(n_estimators = 100) \n",
    "rf_model.fit(bowed_messages, df['label']) \n",
    "rf_predicted = cross_val_predict(rf_model, bowed_messages, df['label'], cv=10) \n",
    "print(classification_report(df['label'], rf_predicted)) # classification_report\n",
    "matrix = confusion_matrix(df['label'], rf_predicted) # confusion_matrix\n",
    "print(matrix) \n",
    "title = \"Learning Curve (Random Forest)\"\n",
    "cv = ShuffleSplit(n_splits=10, test_size=0.2, random_state=0)\n",
    "plot_learning_curve(rf_model, title, bowed_messages, df['label'], ylim=(0.7, 1.01), cv=cv, n_jobs=4)\n",
    "plt.show()"
   ]
  },
  {
   "cell_type": "code",
   "execution_count": 37,
   "metadata": {
    "collapsed": false
   },
   "outputs": [
    {
     "name": "stdout",
     "output_type": "stream",
     "text": [
      "  label                                            message  len  caps  digits  \\\n",
      "0   ham  Love it! Daddy will make you scream with pleas...   92     3       0   \n",
      "1   ham  Pick you up bout 7.30ish? What time are  and t...   56     2       3   \n",
      "2   ham  I'm gonna say no. Sorry. I would but as normal...  119     6       0   \n",
      "3   ham            Both :) i shoot big loads so get ready!   39     1       0   \n",
      "4  spam  FREE GAME. Get Rayman Golf 4 FREE from the O2 ...  153    28       5   \n",
      "\n",
      "   excl  comma  \n",
      "0     3      0  \n",
      "1     0      0  \n",
      "2     1      0  \n",
      "3     1      0  \n",
      "4     0      1  \n"
     ]
    }
   ],
   "source": [
    "# В среднем лучше всех показал себя наивный байесовский классификатор, хуже всех -- дерево решений\n",
    "# Задание 3 (+2).\n",
    "df[\"len\"].map(df['message'].str.len()).astype(int)\n",
    "df['caps'] = df.apply(lambda x: sum(sym.isupper() for sym in x['message']), axis=1)\n",
    "df['digits'] = df.apply(lambda x: sum(sym.isdigit() for sym in x['message']), axis=1)\n",
    "df['excl'].map(df['message'].str.count('!'))\n",
    "df['comma'].map(df['message'].str.count(','))\n",
    "print(df.head())"
   ]
  },
  {
   "cell_type": "code",
   "execution_count": 39,
   "metadata": {
    "collapsed": false
   },
   "outputs": [
    {
     "name": "stdout",
     "output_type": "stream",
     "text": [
      "             precision    recall  f1-score   support\n",
      "\n",
      "        ham       0.91      0.92      0.91       157\n",
      "       spam       0.91      0.89      0.90       142\n",
      "\n",
      "avg / total       0.91      0.91      0.91       299\n",
      "\n",
      "[[145  12]\n",
      " [ 15 127]]\n"
     ]
    }
   ],
   "source": [
    "features = ['len', 'caps', 'digits', 'excl', 'comma']\n",
    "X, y = df[features], df['label']\n",
    "X_train, X_test, y_train, y_test = train_test_split(X, y, test_size=0.2)\n",
    "# Наивный байесовский классификатор\n",
    "naive_model = MultinomialNB()\n",
    "naive_model.fit(np.array(X_train), np.array(y_train))\n",
    "nm_predicted = naive_model.predict(X_test)\n",
    "print(classification_report(y_test, nm_predicted))\n",
    "matrix = confusion_matrix(y_test, nm_predicted)\n",
    "print(matrix) # как-то не очень хорошо получилось"
   ]
  },
  {
   "cell_type": "code",
   "execution_count": 40,
   "metadata": {
    "collapsed": false
   },
   "outputs": [
    {
     "name": "stdout",
     "output_type": "stream",
     "text": [
      "             precision    recall  f1-score   support\n",
      "\n",
      "        ham       0.94      0.97      0.96       157\n",
      "       spam       0.97      0.93      0.95       142\n",
      "\n",
      "avg / total       0.95      0.95      0.95       299\n",
      "\n",
      "[[153   4]\n",
      " [ 10 132]]\n"
     ]
    }
   ],
   "source": [
    "rf_model = RandomForestClassifier(n_estimators = 100) \n",
    "rf_model.fit(np.array(X_train), np.array(y_train)) \n",
    "rf_predicted = rf_model.predict(X_test)\n",
    "print(classification_report(y_test, rf_predicted)) \n",
    "matrix = confusion_matrix(y_test, rf_predicted)\n",
    "print(matrix) "
   ]
  },
  {
   "cell_type": "code",
   "execution_count": null,
   "metadata": {
    "collapsed": true
   },
   "outputs": [],
   "source": [
    "# Ну, с Random Forest результаты получше, но это все равно хуже, чем bow и CountVectorizer"
   ]
  }
 ],
 "metadata": {
  "kernelspec": {
   "display_name": "Python 3",
   "language": "python",
   "name": "python3"
  },
  "language_info": {
   "codemirror_mode": {
    "name": "ipython",
    "version": 3
   },
   "file_extension": ".py",
   "mimetype": "text/x-python",
   "name": "python",
   "nbconvert_exporter": "python",
   "pygments_lexer": "ipython3",
   "version": "3.6.0"
  }
 },
 "nbformat": 4,
 "nbformat_minor": 2
}
