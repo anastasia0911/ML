{
 "cells": [
  {
   "cell_type": "code",
   "execution_count": 1,
   "metadata": {
    "collapsed": false
   },
   "outputs": [],
   "source": [
    "import pandas as pd\n",
    "import numpy as np\n",
    "import os"
   ]
  },
  {
   "cell_type": "code",
   "execution_count": 2,
   "metadata": {
    "collapsed": false
   },
   "outputs": [
    {
     "data": {
      "text/html": [
       "<div>\n",
       "<table border=\"1\" class=\"dataframe\">\n",
       "  <thead>\n",
       "    <tr style=\"text-align: right;\">\n",
       "      <th></th>\n",
       "      <th>review</th>\n",
       "      <th>class</th>\n",
       "    </tr>\n",
       "  </thead>\n",
       "  <tbody>\n",
       "    <tr>\n",
       "      <th>0</th>\n",
       "      <td>films adapted from comic books have had plenty...</td>\n",
       "      <td>1</td>\n",
       "    </tr>\n",
       "    <tr>\n",
       "      <th>1</th>\n",
       "      <td>every now and then a movie comes along from a ...</td>\n",
       "      <td>1</td>\n",
       "    </tr>\n",
       "    <tr>\n",
       "      <th>2</th>\n",
       "      <td>you've got mail works alot better than it dese...</td>\n",
       "      <td>1</td>\n",
       "    </tr>\n",
       "    <tr>\n",
       "      <th>3</th>\n",
       "      <td>\" jaws \" is a rare film that grabs your atten...</td>\n",
       "      <td>1</td>\n",
       "    </tr>\n",
       "    <tr>\n",
       "      <th>4</th>\n",
       "      <td>moviemaking is a lot like being the general ma...</td>\n",
       "      <td>1</td>\n",
       "    </tr>\n",
       "  </tbody>\n",
       "</table>\n",
       "</div>"
      ],
      "text/plain": [
       "                                              review  class\n",
       "0  films adapted from comic books have had plenty...      1\n",
       "1  every now and then a movie comes along from a ...      1\n",
       "2  you've got mail works alot better than it dese...      1\n",
       "3   \" jaws \" is a rare film that grabs your atten...      1\n",
       "4  moviemaking is a lot like being the general ma...      1"
      ]
     },
     "execution_count": 2,
     "metadata": {},
     "output_type": "execute_result"
    }
   ],
   "source": [
    "df = pd.DataFrame()\n",
    "labels ={'pos':1, 'neg':0}\n",
    "path = {'./neg', './pos'} # ревью лежат в соответствующих папках, извлеченных из архива\n",
    "for p in path:\n",
    "    for fname in os.listdir(p):\n",
    "        with open(os.path.join(p, fname), 'r') as file:\n",
    "            text = file.read()\n",
    "        l = p[-3:] # pos, neg\n",
    "        df = df.append([[text, labels[l]]], ignore_index=True) # добавляю в датасет ревью и его класс\n",
    "df.columns = ['review', 'class']\n",
    "df.head() # отсортированный датасет"
   ]
  },
  {
   "cell_type": "code",
   "execution_count": 3,
   "metadata": {
    "collapsed": false
   },
   "outputs": [
    {
     "data": {
      "text/html": [
       "<div>\n",
       "<table border=\"1\" class=\"dataframe\">\n",
       "  <thead>\n",
       "    <tr style=\"text-align: right;\">\n",
       "      <th></th>\n",
       "      <th>review</th>\n",
       "      <th>class</th>\n",
       "    </tr>\n",
       "  </thead>\n",
       "  <tbody>\n",
       "    <tr>\n",
       "      <th>0</th>\n",
       "      <td>i admit it . \\r\\ni thought arnold schwarzenegg...</td>\n",
       "      <td>0</td>\n",
       "    </tr>\n",
       "    <tr>\n",
       "      <th>1</th>\n",
       "      <td>cinema has been around for about a hundred yea...</td>\n",
       "      <td>1</td>\n",
       "    </tr>\n",
       "    <tr>\n",
       "      <th>2</th>\n",
       "      <td>there are some pretty impressive stars in lost...</td>\n",
       "      <td>0</td>\n",
       "    </tr>\n",
       "    <tr>\n",
       "      <th>3</th>\n",
       "      <td>recently one night a young director named baz ...</td>\n",
       "      <td>0</td>\n",
       "    </tr>\n",
       "    <tr>\n",
       "      <th>4</th>\n",
       "      <td>not since attending an ingmar bergman retrospe...</td>\n",
       "      <td>1</td>\n",
       "    </tr>\n",
       "  </tbody>\n",
       "</table>\n",
       "</div>"
      ],
      "text/plain": [
       "                                              review  class\n",
       "0  i admit it . \\r\\ni thought arnold schwarzenegg...      0\n",
       "1  cinema has been around for about a hundred yea...      1\n",
       "2  there are some pretty impressive stars in lost...      0\n",
       "3  recently one night a young director named baz ...      0\n",
       "4  not since attending an ingmar bergman retrospe...      1"
      ]
     },
     "execution_count": 3,
     "metadata": {},
     "output_type": "execute_result"
    }
   ],
   "source": [
    "df = df.reindex(np.random.permutation(df.index)) # перемешиваю ревью с помощью индексов строк\n",
    "# df.head()\n",
    "df.to_csv('./movie_reviews.csv', index=False) # записываю в csv без индексов\n",
    "df = pd.read_csv('./movie_reviews.csv')\n",
    "df.head() # новый перемешанный датасет"
   ]
  },
  {
   "cell_type": "code",
   "execution_count": 4,
   "metadata": {
    "collapsed": false
   },
   "outputs": [],
   "source": [
    "from sklearn.model_selection import train_test_split\n",
    "X, y = df['review'], df['class']\n",
    "X_train, X_test, y_train, y_test = train_test_split(X, y, test_size=0.3)\n",
    "# делю выборку на обучающую и тренировочную в соотнощении 70:30 (1400 и 600 ревью соответственно)"
   ]
  },
  {
   "cell_type": "code",
   "execution_count": 5,
   "metadata": {
    "collapsed": false
   },
   "outputs": [],
   "source": [
    "from nltk.corpus import stopwords\n",
    "from sklearn.feature_extraction.text import CountVectorizer\n",
    "from sklearn.linear_model import LogisticRegression\n",
    "\n",
    "stopwords_nltk = set(stopwords.words(\"english\"))\n",
    "''' В случае с ревью не очень хорошо исключать абсолютно все стоп-слова, ведь в этом случае некоторые оценочные суждения могут\n",
    "менять полярность на противоположную: \"Not quite sure how to review this film, based on its laughter factor. Well yeah i can,\n",
    "it's not funny.\" Если мы исключим отрицание, полярность изменится и наличие слова funny будет свидетельствовать о том,\n",
    "что ревью положительное, хотя это изначально не так. Поэтому нужно оставить отрицательные слова и смотреть не только на\n",
    "юниграммы (не знаю, можно ли так сказать), но и на биграммы/триграммы '''\n",
    "negative_words = set(['isn', 'aren', 'wasn', 'weren', 'ain', 'don', 'not', 'nor', 'but'])\n",
    "stopwords_filtered = list(stopwords_nltk.difference(negative_words))\n",
    "# векторизую тексты ревью, исключая только нерелевантные стоп-слова\n",
    "vectorizer = CountVectorizer(stop_words = stopwords_filtered, max_features = 15000, ngram_range = (1,3))  # много термов-фичей\n",
    "X_train_features = vectorizer.fit_transform(X_train)\n",
    "X_test_features = vectorizer.transform(X_test)"
   ]
  },
  {
   "cell_type": "code",
   "execution_count": 6,
   "metadata": {
    "collapsed": false
   },
   "outputs": [
    {
     "name": "stdout",
     "output_type": "stream",
     "text": [
      "             precision    recall  f1-score   support\n",
      "\n",
      "          0       0.82      0.88      0.85       289\n",
      "          1       0.88      0.83      0.85       311\n",
      "\n",
      "avg / total       0.85      0.85      0.85       600\n",
      "\n"
     ]
    }
   ],
   "source": [
    "from sklearn.metrics import classification_report, f1_score\n",
    "logistic_model = LogisticRegression() \n",
    "logistic_model.fit(X_train_features, y_train)\n",
    "y_pred = logistic_model.predict(X_test_features)\n",
    "print(classification_report(y_test, y_pred))\n",
    "# получилось очень даже хорошо, ф-мера=0.87"
   ]
  },
  {
   "cell_type": "code",
   "execution_count": 7,
   "metadata": {
    "collapsed": false
   },
   "outputs": [
    {
     "data": {
      "text/html": [
       "<div>\n",
       "<table border=\"1\" class=\"dataframe\">\n",
       "  <thead>\n",
       "    <tr style=\"text-align: right;\">\n",
       "      <th></th>\n",
       "      <th>coef</th>\n",
       "      <th>word</th>\n",
       "    </tr>\n",
       "  </thead>\n",
       "  <tbody>\n",
       "    <tr>\n",
       "      <th>5383</th>\n",
       "      <td>0.476470</td>\n",
       "      <td>fun</td>\n",
       "    </tr>\n",
       "    <tr>\n",
       "      <th>5924</th>\n",
       "      <td>0.455533</td>\n",
       "      <td>great</td>\n",
       "    </tr>\n",
       "    <tr>\n",
       "      <th>7127</th>\n",
       "      <td>0.407421</td>\n",
       "      <td>job</td>\n",
       "    </tr>\n",
       "    <tr>\n",
       "      <th>1365</th>\n",
       "      <td>0.360699</td>\n",
       "      <td>bit</td>\n",
       "    </tr>\n",
       "    <tr>\n",
       "      <th>13868</th>\n",
       "      <td>0.358877</td>\n",
       "      <td>true</td>\n",
       "    </tr>\n",
       "  </tbody>\n",
       "</table>\n",
       "</div>"
      ],
      "text/plain": [
       "           coef   word\n",
       "5383   0.476470    fun\n",
       "5924   0.455533  great\n",
       "7127   0.407421    job\n",
       "1365   0.360699    bit\n",
       "13868  0.358877   true"
      ]
     },
     "execution_count": 7,
     "metadata": {},
     "output_type": "execute_result"
    }
   ],
   "source": [
    "vocabulary = vectorizer.get_feature_names() # имена фичей -- термы\n",
    "coefs = logistic_model.coef_\n",
    "word_importances = pd.DataFrame({'word': vocabulary, 'coef': coefs.tolist()[0]}) # сопоставляю термы и коэффициенты логит\n",
    "word_importances_sorted = word_importances.sort_values(by='coef', ascending = False)\n",
    "# топ-5 термов, свидетельствующих о том, что ревью -- положительное\n",
    "word_importances_sorted[:5]"
   ]
  },
  {
   "cell_type": "code",
   "execution_count": 8,
   "metadata": {
    "collapsed": false
   },
   "outputs": [
    {
     "data": {
      "text/html": [
       "<div>\n",
       "<table border=\"1\" class=\"dataframe\">\n",
       "  <thead>\n",
       "    <tr style=\"text-align: right;\">\n",
       "      <th></th>\n",
       "      <th>coef</th>\n",
       "      <th>word</th>\n",
       "    </tr>\n",
       "  </thead>\n",
       "  <tbody>\n",
       "    <tr>\n",
       "      <th>10366</th>\n",
       "      <td>-0.427208</td>\n",
       "      <td>point</td>\n",
       "    </tr>\n",
       "    <tr>\n",
       "      <th>9408</th>\n",
       "      <td>-0.434677</td>\n",
       "      <td>nothing</td>\n",
       "    </tr>\n",
       "    <tr>\n",
       "      <th>6012</th>\n",
       "      <td>-0.439572</td>\n",
       "      <td>guess</td>\n",
       "    </tr>\n",
       "    <tr>\n",
       "      <th>11000</th>\n",
       "      <td>-0.493039</td>\n",
       "      <td>reason</td>\n",
       "    </tr>\n",
       "    <tr>\n",
       "      <th>13094</th>\n",
       "      <td>-0.526644</td>\n",
       "      <td>supposed</td>\n",
       "    </tr>\n",
       "  </tbody>\n",
       "</table>\n",
       "</div>"
      ],
      "text/plain": [
       "           coef      word\n",
       "10366 -0.427208     point\n",
       "9408  -0.434677   nothing\n",
       "6012  -0.439572     guess\n",
       "11000 -0.493039    reason\n",
       "13094 -0.526644  supposed"
      ]
     },
     "execution_count": 8,
     "metadata": {},
     "output_type": "execute_result"
    }
   ],
   "source": [
    "# топ-5 термов, встречающихся в отрицательных ревью\n",
    "word_importances_sorted[-6:-1]"
   ]
  },
  {
   "cell_type": "code",
   "execution_count": 9,
   "metadata": {
    "collapsed": false
   },
   "outputs": [
    {
     "data": {
      "text/plain": [
       "array([-0.33152764])"
      ]
     },
     "execution_count": 9,
     "metadata": {},
     "output_type": "execute_result"
    }
   ],
   "source": [
    "logistic_model.intercept_ # константа "
   ]
  },
  {
   "cell_type": "code",
   "execution_count": 10,
   "metadata": {
    "collapsed": false
   },
   "outputs": [
    {
     "name": "stdout",
     "output_type": "stream",
     "text": [
      "Best estimators number is 81\n",
      "             precision    recall  f1-score   support\n",
      "\n",
      "          0       0.80      0.88      0.84       289\n",
      "          1       0.88      0.79      0.83       311\n",
      "\n",
      "avg / total       0.84      0.83      0.83       600\n",
      "\n"
     ]
    }
   ],
   "source": [
    "# Random Forest\n",
    "from sklearn.ensemble import RandomForestClassifier\n",
    "scores = []\n",
    "d = {}\n",
    "for t in range(60, 100): # ищу оптимальное количество деревьев в rf\n",
    "    rfc = RandomForestClassifier(n_estimators=t)\n",
    "    rfc.fit(X_train_features, y_train)\n",
    "    y_pred = rfc.predict(X_test_features)\n",
    "    scores.append(f1_score(y_test, y_pred))\n",
    "    if t not in d:\n",
    "        d[t] = f1_score(y_test, y_pred)\n",
    "best_estimator = 70  # пусть будет по умолчанию так\n",
    "for k, v in d.items():\n",
    "    if v == max(scores):\n",
    "        best_estimator = k\n",
    "print('Best estimators number is', best_estimator)\n",
    "model = RandomForestClassifier(n_estimators=best_estimator)\n",
    "model.fit(X_train_features, y_train)\n",
    "y_pred = model.predict(X_test_features)\n",
    "print(classification_report(y_test, y_pred)) # ф-мера-0.83, хуже, чем логит"
   ]
  },
  {
   "cell_type": "code",
   "execution_count": 11,
   "metadata": {
    "collapsed": false
   },
   "outputs": [
    {
     "name": "stdout",
     "output_type": "stream",
     "text": [
      "             precision    recall  f1-score   support\n",
      "\n",
      "          0       0.78      0.88      0.82       289\n",
      "          1       0.87      0.77      0.82       311\n",
      "\n",
      "avg / total       0.83      0.82      0.82       600\n",
      "\n"
     ]
    }
   ],
   "source": [
    "# Naive Bayes\n",
    "from sklearn.naive_bayes import MultinomialNB\n",
    "naive_model = MultinomialNB()\n",
    "naive_model.fit(X_train_features, y_train)\n",
    "y_pred = naive_model.predict(X_test_features)\n",
    "print(classification_report(y_test, y_pred)) # ф-мера=0.82, хуже, чем логит\n",
    "# Получилось, что логистическая регрессия лучше всего справилась с задачей"
   ]
  }
 ],
 "metadata": {
  "kernelspec": {
   "display_name": "Python 3",
   "language": "python",
   "name": "python3"
  },
  "language_info": {
   "codemirror_mode": {
    "name": "ipython",
    "version": 3
   },
   "file_extension": ".py",
   "mimetype": "text/x-python",
   "name": "python",
   "nbconvert_exporter": "python",
   "pygments_lexer": "ipython3",
   "version": "3.6.0"
  }
 },
 "nbformat": 4,
 "nbformat_minor": 2
}
